{
 "cells": [
  {
   "cell_type": "markdown",
   "metadata": {},
   "source": [
    "# Example Notebook\n",
    "\n",
    "This notebook provides an example in getting started with Stellar dataset. The notebook assumes that you have already familiarized yourself with the [README.md](https://github.com/stellar-gen-ai/stellar-dataset). \n",
    "\n",
    "The README.md contains instructions on how to download and process the dataset. After you have done so, you should place the dataset in a folder called `stellar-data` \n",
    "\n",
    "The folder structure should be\n",
    "\n",
    "    .\n",
    "    ├── ...\n",
    "    ├── stellar-data                     # The datasets folder\n",
    "    │   ├── 000                          # Zeroth subject folder\n",
    "    │   │   ├── 0.jpg                    # First image file\n",
    "    │   │   ├── 0_bg.png                 # First image mask file\n",
    "    │   │   ├── 0_attributes.json        # First image celeba annotations\n",
    "    │   │   ├── 1.jpg                    # Second image file\n",
    "    │   │   ├── 1_bg.png                 # Second image mask file\n",
    "    │   │   ├── 1_attributes.json        # Second image celeba annotations\n",
    "    │   │   │ ...\n",
    "    │   └── ..."
   ]
  },
  {
   "cell_type": "code",
   "execution_count": null,
   "metadata": {},
   "outputs": [],
   "source": [
    "from stellar_dataset import Stellar\n",
    "\n",
    "dataset = Stellar(\"stellar-data\")"
   ]
  },
  {
   "cell_type": "code",
   "execution_count": null,
   "metadata": {},
   "outputs": [],
   "source": [
    "sample = dataset[0]"
   ]
  },
  {
   "cell_type": "code",
   "execution_count": null,
   "metadata": {},
   "outputs": [],
   "source": [
    "sample"
   ]
  },
  {
   "cell_type": "code",
   "execution_count": null,
   "metadata": {},
   "outputs": [],
   "source": [
    "sample[\"img\"]"
   ]
  },
  {
   "cell_type": "markdown",
   "metadata": {},
   "source": [
    "## Metadata\n",
    "\n",
    "The metadata can be used for the evaluation of an image"
   ]
  },
  {
   "cell_type": "code",
   "execution_count": null,
   "metadata": {},
   "outputs": [],
   "source": [
    "dataset.get_metadata(sample[\"index\"])"
   ]
  }
 ],
 "metadata": {
  "kernelspec": {
   "display_name": "torch",
   "language": "python",
   "name": "torch"
  },
  "language_info": {
   "codemirror_mode": {
    "name": "ipython",
    "version": 3
   },
   "file_extension": ".py",
   "mimetype": "text/x-python",
   "name": "python",
   "nbconvert_exporter": "python",
   "pygments_lexer": "ipython3",
   "version": "3.10.13"
  }
 },
 "nbformat": 4,
 "nbformat_minor": 2
}
